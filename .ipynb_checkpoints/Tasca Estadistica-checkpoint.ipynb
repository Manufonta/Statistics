{
 "cells": [
  {
   "cell_type": "markdown",
   "metadata": {},
   "source": [
    "# Tasca strint 7: Datos, probabilidades y estadísticas"
   ]
  },
  {
   "cell_type": "markdown",
   "metadata": {},
   "source": [
    "### Ejercicio 1\n",
    "\n",
    "Coge un conjunto de datos de tema deportivo que te guste y selecciona un atributo del conjunto de datos. Calcula la moda, mediana y desviación estandar y la media aritmética."
   ]
  },
  {
   "cell_type": "code",
   "execution_count": 34,
   "metadata": {},
   "outputs": [],
   "source": [
    "import numpy as np\n",
    "import pandas as pd\n",
    "from scipy import stats\n",
    "import random\n",
    "import matplotlib.pyplot as plt\n",
    "import seaborn as sns"
   ]
  },
  {
   "cell_type": "code",
   "execution_count": 2,
   "metadata": {},
   "outputs": [
    {
     "data": {
      "text/html": [
       "<div>\n",
       "<style scoped>\n",
       "    .dataframe tbody tr th:only-of-type {\n",
       "        vertical-align: middle;\n",
       "    }\n",
       "\n",
       "    .dataframe tbody tr th {\n",
       "        vertical-align: top;\n",
       "    }\n",
       "\n",
       "    .dataframe thead th {\n",
       "        text-align: right;\n",
       "    }\n",
       "</style>\n",
       "<table border=\"1\" class=\"dataframe\">\n",
       "  <thead>\n",
       "    <tr style=\"text-align: right;\">\n",
       "      <th></th>\n",
       "      <th>Team</th>\n",
       "      <th>Position</th>\n",
       "      <th>Name</th>\n",
       "      <th>Minutes played</th>\n",
       "      <th>Goals scored</th>\n",
       "      <th>Passes</th>\n",
       "    </tr>\n",
       "  </thead>\n",
       "  <tbody>\n",
       "    <tr>\n",
       "      <th>0</th>\n",
       "      <td>Athletic Club</td>\n",
       "      <td>Goalkeeper</td>\n",
       "      <td>Hodei Oleaga</td>\n",
       "      <td>0.000</td>\n",
       "      <td>0</td>\n",
       "      <td>0.0</td>\n",
       "    </tr>\n",
       "    <tr>\n",
       "      <th>1</th>\n",
       "      <td>Athletic Club</td>\n",
       "      <td>Goalkeeper</td>\n",
       "      <td>A. Remiro</td>\n",
       "      <td>0.000</td>\n",
       "      <td>0</td>\n",
       "      <td>0.0</td>\n",
       "    </tr>\n",
       "    <tr>\n",
       "      <th>2</th>\n",
       "      <td>Athletic Club</td>\n",
       "      <td>Goalkeeper</td>\n",
       "      <td>Herrerín</td>\n",
       "      <td>2.790</td>\n",
       "      <td>0</td>\n",
       "      <td>887.0</td>\n",
       "    </tr>\n",
       "    <tr>\n",
       "      <th>3</th>\n",
       "      <td>Athletic Club</td>\n",
       "      <td>Goalkeeper</td>\n",
       "      <td>Unai Simón</td>\n",
       "      <td>630.000</td>\n",
       "      <td>0</td>\n",
       "      <td>155.0</td>\n",
       "    </tr>\n",
       "    <tr>\n",
       "      <th>4</th>\n",
       "      <td>Athletic Club</td>\n",
       "      <td>Defender</td>\n",
       "      <td>Núñez</td>\n",
       "      <td>1.063</td>\n",
       "      <td>0</td>\n",
       "      <td>536.0</td>\n",
       "    </tr>\n",
       "    <tr>\n",
       "      <th>...</th>\n",
       "      <td>...</td>\n",
       "      <td>...</td>\n",
       "      <td>...</td>\n",
       "      <td>...</td>\n",
       "      <td>...</td>\n",
       "      <td>...</td>\n",
       "    </tr>\n",
       "    <tr>\n",
       "      <th>551</th>\n",
       "      <td>Villarreal CF</td>\n",
       "      <td>Midfielder</td>\n",
       "      <td>Iván Martín</td>\n",
       "      <td>0.000</td>\n",
       "      <td>0</td>\n",
       "      <td>0.0</td>\n",
       "    </tr>\n",
       "    <tr>\n",
       "      <th>552</th>\n",
       "      <td>Villarreal CF</td>\n",
       "      <td>Midfielder</td>\n",
       "      <td>Andrei Ratiu</td>\n",
       "      <td>0.000</td>\n",
       "      <td>0</td>\n",
       "      <td>0.0</td>\n",
       "    </tr>\n",
       "    <tr>\n",
       "      <th>553</th>\n",
       "      <td>Villarreal CF</td>\n",
       "      <td>Forward</td>\n",
       "      <td>Gerard</td>\n",
       "      <td>2.317</td>\n",
       "      <td>8</td>\n",
       "      <td>740.0</td>\n",
       "    </tr>\n",
       "    <tr>\n",
       "      <th>554</th>\n",
       "      <td>Villarreal CF</td>\n",
       "      <td>Forward</td>\n",
       "      <td>Bacca</td>\n",
       "      <td>1.259</td>\n",
       "      <td>6</td>\n",
       "      <td>270.0</td>\n",
       "    </tr>\n",
       "    <tr>\n",
       "      <th>555</th>\n",
       "      <td>Villarreal CF</td>\n",
       "      <td>Forward</td>\n",
       "      <td>Toko Ekambi</td>\n",
       "      <td>2.148</td>\n",
       "      <td>10</td>\n",
       "      <td>501.0</td>\n",
       "    </tr>\n",
       "  </tbody>\n",
       "</table>\n",
       "<p>556 rows × 6 columns</p>\n",
       "</div>"
      ],
      "text/plain": [
       "              Team    Position          Name  Minutes played  Goals scored  \\\n",
       "0    Athletic Club  Goalkeeper  Hodei Oleaga           0.000             0   \n",
       "1    Athletic Club  Goalkeeper     A. Remiro           0.000             0   \n",
       "2    Athletic Club  Goalkeeper      Herrerín           2.790             0   \n",
       "3    Athletic Club  Goalkeeper    Unai Simón         630.000             0   \n",
       "4    Athletic Club    Defender         Núñez           1.063             0   \n",
       "..             ...         ...           ...             ...           ...   \n",
       "551  Villarreal CF  Midfielder   Iván Martín           0.000             0   \n",
       "552  Villarreal CF  Midfielder  Andrei Ratiu           0.000             0   \n",
       "553  Villarreal CF     Forward        Gerard           2.317             8   \n",
       "554  Villarreal CF     Forward         Bacca           1.259             6   \n",
       "555  Villarreal CF     Forward   Toko Ekambi           2.148            10   \n",
       "\n",
       "     Passes  \n",
       "0       0.0  \n",
       "1       0.0  \n",
       "2     887.0  \n",
       "3     155.0  \n",
       "4     536.0  \n",
       "..      ...  \n",
       "551     0.0  \n",
       "552     0.0  \n",
       "553   740.0  \n",
       "554   270.0  \n",
       "555   501.0  \n",
       "\n",
       "[556 rows x 6 columns]"
      ]
     },
     "execution_count": 2,
     "metadata": {},
     "output_type": "execute_result"
    }
   ],
   "source": [
    "# Continuamos con el datasets del anterior ejercicio.\n",
    "\n",
    "liga = pd.read_csv('laliga_player_stats_english.csv')\n",
    "liga = liga[['Team', 'Position', 'Name', 'Minutes played','Goals scored','Passes']]\n",
    "liga"
   ]
  },
  {
   "cell_type": "code",
   "execution_count": 18,
   "metadata": {},
   "outputs": [
    {
     "name": "stdout",
     "output_type": "stream",
     "text": [
      "Media aritmética 298.28\n",
      "Mediana 165.0\n",
      "Desviación estandar 323.71\n",
      "Moda [0.]\n"
     ]
    }
   ],
   "source": [
    "# Se realizará para la variable 'Passes'\n",
    "#np.mean(liga['Passes'])\n",
    "print('Media aritmética', round(np.mean(liga['Passes']),2))\n",
    "print('Mediana', round(np.median(liga['Passes']),2))\n",
    "print('Desviación estandar', round(np.std(liga['Passes']),2))\n",
    "print('Moda', stats.mode(liga['Passes'])[0])"
   ]
  },
  {
   "cell_type": "markdown",
   "metadata": {},
   "source": [
    "### Ejercicio 2:\n",
    "\n",
    "Selecciona dos atributos y calcula su correlación"
   ]
  },
  {
   "cell_type": "code",
   "execution_count": 30,
   "metadata": {},
   "outputs": [
    {
     "name": "stdout",
     "output_type": "stream",
     "text": [
      "Correlación Min jugados-pases: -0.12584724415787227\n"
     ]
    }
   ],
   "source": [
    "print ('Correlación Min jugados-pases:', np.corrcoef(liga['Minutes played'], liga['Passes'])[1][0])"
   ]
  },
  {
   "cell_type": "markdown",
   "metadata": {},
   "source": [
    "### Ejercicio 3:\n",
    "\n",
    "Calcula la correlación de todos los atributos entre sí y representalos en una matriz con diferentes colores de intensidad."
   ]
  },
  {
   "cell_type": "code",
   "execution_count": 36,
   "metadata": {},
   "outputs": [
    {
     "data": {
      "text/plain": [
       "<function matplotlib.pyplot.show(close=None, block=None)>"
      ]
     },
     "execution_count": 36,
     "metadata": {},
     "output_type": "execute_result"
    },
    {
     "data": {
      "image/png": "[encoded data removed]",
      "text/plain": [
       "<Figure size 720x504 with 2 Axes>"
      ]
     },
     "metadata": {
      "needs_background": "light"
     },
     "output_type": "display_data"
    }
   ],
   "source": [
    "plt.figure(figsize = (10,7))\n",
    "sns.heatmap(liga.corr().round(3), linewidth = 0.3, annot = True, cmap = 'viridis')\n",
    "plt.title('Mapa de calor de correlaciones', size = 25)\n",
    "plt.show"
   ]
  },
  {
   "cell_type": "markdown",
   "metadata": {},
   "source": [
    "### Ejercicio 4\n",
    "\n",
    "Selecciona un atributo y calcula la media geomética y la media harmónica."
   ]
  },
  {
   "cell_type": "code",
   "execution_count": 41,
   "metadata": {},
   "outputs": [
    {
     "name": "stdout",
     "output_type": "stream",
     "text": [
      "Media Geométrica: 0.0\n",
      "Media Harmónica: 0.0\n"
     ]
    }
   ],
   "source": [
    "print('Media Geométrica:', round(stats.gmean(liga['Passes']),2))\n",
    "print('Media Harmónica:', round(stats.hmean(liga['Passes']),3))"
   ]
  },
  {
   "cell_type": "code",
   "execution_count": null,
   "metadata": {},
   "outputs": [],
   "source": []
  }
 ],
 "metadata": {
  "kernelspec": {
   "display_name": "Python 3",
   "language": "python",
   "name": "python3"
  },
  "language_info": {
   "codemirror_mode": {
    "name": "ipython",
    "version": 3
   },
   "file_extension": ".py",
   "mimetype": "text/x-python",
   "name": "python",
   "nbconvert_exporter": "python",
   "pygments_lexer": "ipython3",
   "version": "3.8.5"
  }
 },
 "nbformat": 4,
 "nbformat_minor": 4
}
